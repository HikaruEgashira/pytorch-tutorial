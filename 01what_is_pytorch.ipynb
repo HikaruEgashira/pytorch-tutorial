{
  "nbformat": 4,
  "nbformat_minor": 0,
  "metadata": {
    "colab": {
      "name": "01what is pytorch.ipynb",
      "version": "0.3.2",
      "provenance": [],
      "include_colab_link": true
    },
    "kernelspec": {
      "name": "python3",
      "display_name": "Python 3"
    },
    "accelerator": "GPU"
  },
  "cells": [
    {
      "cell_type": "markdown",
      "metadata": {
        "id": "view-in-github",
        "colab_type": "text"
      },
      "source": [
        "<a href=\"https://colab.research.google.com/github/HikaruEgashira/pytorch-tutorial/blob/master/01what_is_pytorch.ipynb\" target=\"_parent\"><img src=\"https://colab.research.google.com/assets/colab-badge.svg\" alt=\"Open In Colab\"/></a>"
      ]
    },
    {
      "metadata": {
        "id": "V4NYjxVPjpgh",
        "colab_type": "code",
        "colab": {}
      },
      "cell_type": "code",
      "source": [
        "from google.colab import drive\n",
        "drive.mount('/content/drive')"
      ],
      "execution_count": 0,
      "outputs": []
    },
    {
      "metadata": {
        "id": "TUnqogTUj7Mp",
        "colab_type": "code",
        "colab": {
          "base_uri": "https://localhost:8080/",
          "height": 34
        },
        "outputId": "a1576811-1981-48d6-9f4a-989b4c04b2f6"
      },
      "cell_type": "code",
      "source": [
        "!python --version"
      ],
      "execution_count": 2,
      "outputs": [
        {
          "output_type": "stream",
          "text": [
            "Python 3.6.7\n"
          ],
          "name": "stdout"
        }
      ]
    },
    {
      "metadata": {
        "id": "bItjbkAtkWJM",
        "colab_type": "code",
        "colab": {}
      },
      "cell_type": "code",
      "source": [
        "!pip install torch torchvision"
      ],
      "execution_count": 0,
      "outputs": []
    },
    {
      "metadata": {
        "id": "hwvYoKXEkmVO",
        "colab_type": "code",
        "colab": {
          "base_uri": "https://localhost:8080/",
          "height": 34
        },
        "outputId": "032be532-2ceb-4f9f-b5d8-216c1f309729"
      },
      "cell_type": "code",
      "source": [
        "import torch\n",
        "torch.cuda.is_available()"
      ],
      "execution_count": 1,
      "outputs": [
        {
          "output_type": "execute_result",
          "data": {
            "text/plain": [
              "True"
            ]
          },
          "metadata": {
            "tags": []
          },
          "execution_count": 1
        }
      ]
    },
    {
      "metadata": {
        "id": "irTO00Nikvb9",
        "colab_type": "code",
        "colab": {}
      },
      "cell_type": "code",
      "source": [
        "from __future__ import print_function\n",
        "import torch"
      ],
      "execution_count": 0,
      "outputs": []
    },
    {
      "metadata": {
        "id": "MzrvMjahlXYl",
        "colab_type": "code",
        "colab": {
          "base_uri": "https://localhost:8080/",
          "height": 102
        },
        "outputId": "cf2bbfc1-5f6e-47c6-9981-f0dbfd4040dc"
      },
      "cell_type": "code",
      "source": [
        "x = torch.empty(5, 3)\n",
        "print(x)"
      ],
      "execution_count": 6,
      "outputs": [
        {
          "output_type": "stream",
          "text": [
            "tensor([[2.9917e-36, 0.0000e+00, 4.4842e-44],\n",
            "        [0.0000e+00,        nan, 0.0000e+00],\n",
            "        [6.5993e-10, 4.2419e-08, 3.3707e-06],\n",
            "        [8.1265e+20, 2.0798e+20, 1.3075e+22],\n",
            "        [8.2293e-10, 3.2915e-09, 0.0000e+00]])\n"
          ],
          "name": "stdout"
        }
      ]
    },
    {
      "metadata": {
        "id": "6Jha_RXElcrV",
        "colab_type": "code",
        "colab": {
          "base_uri": "https://localhost:8080/",
          "height": 102
        },
        "outputId": "c380f67d-ac59-4cc9-8e44-9da9deeda8df"
      },
      "cell_type": "code",
      "source": [
        "x = torch.rand(5, 3)\n",
        "print(x)"
      ],
      "execution_count": 7,
      "outputs": [
        {
          "output_type": "stream",
          "text": [
            "tensor([[0.7011, 0.3504, 0.7226],\n",
            "        [0.2043, 0.8487, 0.9005],\n",
            "        [0.1257, 0.0286, 0.1396],\n",
            "        [0.9005, 0.5098, 0.5849],\n",
            "        [0.0468, 0.3478, 0.0605]])\n"
          ],
          "name": "stdout"
        }
      ]
    },
    {
      "metadata": {
        "id": "CuCmhxHFlrJl",
        "colab_type": "code",
        "colab": {
          "base_uri": "https://localhost:8080/",
          "height": 102
        },
        "outputId": "a27bb79e-e9b6-4685-f0d6-0a09e1625399"
      },
      "cell_type": "code",
      "source": [
        "x = torch.zeros(5, 3, dtype=torch.long)\n",
        "print(x)"
      ],
      "execution_count": 10,
      "outputs": [
        {
          "output_type": "stream",
          "text": [
            "tensor([[0, 0, 0],\n",
            "        [0, 0, 0],\n",
            "        [0, 0, 0],\n",
            "        [0, 0, 0],\n",
            "        [0, 0, 0]])\n"
          ],
          "name": "stdout"
        }
      ]
    },
    {
      "metadata": {
        "id": "1QtAZwXNlyv9",
        "colab_type": "code",
        "colab": {
          "base_uri": "https://localhost:8080/",
          "height": 34
        },
        "outputId": "dd900278-be3b-43c4-e4dc-36bb5c606a5d"
      },
      "cell_type": "code",
      "source": [
        "x = torch.tensor([5.5, 3])\n",
        "print(x)"
      ],
      "execution_count": 11,
      "outputs": [
        {
          "output_type": "stream",
          "text": [
            "tensor([5.5000, 3.0000])\n"
          ],
          "name": "stdout"
        }
      ]
    },
    {
      "metadata": {
        "id": "0Badi2oDn7UD",
        "colab_type": "text"
      },
      "cell_type": "markdown",
      "source": [
        "new_* の形はサイズをとる"
      ]
    },
    {
      "metadata": {
        "id": "fDt5fMlPmIFV",
        "colab_type": "code",
        "colab": {
          "base_uri": "https://localhost:8080/",
          "height": 187
        },
        "outputId": "063d41c2-14aa-4ce2-b69b-285726f91cf7"
      },
      "cell_type": "code",
      "source": [
        "x = x.new_ones(5, 3, dtype=torch.double)\n",
        "print(x)\n",
        "\n",
        "x = torch.randn_like(x, dtype=torch.float)\n",
        "print(x)"
      ],
      "execution_count": 12,
      "outputs": [
        {
          "output_type": "stream",
          "text": [
            "tensor([[1., 1., 1.],\n",
            "        [1., 1., 1.],\n",
            "        [1., 1., 1.],\n",
            "        [1., 1., 1.],\n",
            "        [1., 1., 1.]], dtype=torch.float64)\n",
            "tensor([[-1.6807,  0.8508, -1.8713],\n",
            "        [-0.6115, -1.7489,  0.2549],\n",
            "        [-0.5960, -1.2273,  1.8745],\n",
            "        [-0.3945,  0.7616,  0.6555],\n",
            "        [ 0.0613, -0.6850,  3.1959]])\n"
          ],
          "name": "stdout"
        }
      ]
    },
    {
      "metadata": {
        "id": "8PrPJBgemeAd",
        "colab_type": "code",
        "colab": {
          "base_uri": "https://localhost:8080/",
          "height": 102
        },
        "outputId": "ad816c69-f3d2-4d3a-fd3d-051c8c58c5ab"
      },
      "cell_type": "code",
      "source": [
        "print(torch.ones(5, 3, dtype=torch.long))"
      ],
      "execution_count": 13,
      "outputs": [
        {
          "output_type": "stream",
          "text": [
            "tensor([[1, 1, 1],\n",
            "        [1, 1, 1],\n",
            "        [1, 1, 1],\n",
            "        [1, 1, 1],\n",
            "        [1, 1, 1]])\n"
          ],
          "name": "stdout"
        }
      ]
    },
    {
      "metadata": {
        "id": "JYtusJGUoVxA",
        "colab_type": "text"
      },
      "cell_type": "markdown",
      "source": [
        "torch.size関数はタプルtupple"
      ]
    },
    {
      "metadata": {
        "id": "5VM_qu48mmDV",
        "colab_type": "code",
        "colab": {
          "base_uri": "https://localhost:8080/",
          "height": 34
        },
        "outputId": "3849a2eb-4452-4ad1-e6de-8ecafa2d240f"
      },
      "cell_type": "code",
      "source": [
        "print(x.size())"
      ],
      "execution_count": 14,
      "outputs": [
        {
          "output_type": "stream",
          "text": [
            "torch.Size([5, 3])\n"
          ],
          "name": "stdout"
        }
      ]
    },
    {
      "metadata": {
        "id": "5Qt3GxfhoP6M",
        "colab_type": "code",
        "colab": {
          "base_uri": "https://localhost:8080/",
          "height": 187
        },
        "outputId": "515ca065-9969-4fbf-ae68-2b29bd8d2c3a"
      },
      "cell_type": "code",
      "source": [
        "y = torch.rand(5, 3)\n",
        "print(x + y)\n",
        "print(torch.add(x, y))"
      ],
      "execution_count": 17,
      "outputs": [
        {
          "output_type": "stream",
          "text": [
            "tensor([[-0.9607,  1.8174, -0.9972],\n",
            "        [-0.0476, -1.0685,  1.1992],\n",
            "        [ 0.2992, -0.9975,  2.1805],\n",
            "        [ 0.5217,  1.6803,  0.7940],\n",
            "        [ 1.0188, -0.5865,  3.2245]])\n",
            "tensor([[-0.9607,  1.8174, -0.9972],\n",
            "        [-0.0476, -1.0685,  1.1992],\n",
            "        [ 0.2992, -0.9975,  2.1805],\n",
            "        [ 0.5217,  1.6803,  0.7940],\n",
            "        [ 1.0188, -0.5865,  3.2245]])\n"
          ],
          "name": "stdout"
        }
      ]
    },
    {
      "metadata": {
        "id": "n5klus8cpXiR",
        "colab_type": "text"
      },
      "cell_type": "markdown",
      "source": [
        "結果をoutで指定して格納できる"
      ]
    },
    {
      "metadata": {
        "id": "7Z5ejHq0ohyM",
        "colab_type": "code",
        "colab": {
          "base_uri": "https://localhost:8080/",
          "height": 102
        },
        "outputId": "8ae43187-1347-4bc1-8482-bcd434f11973"
      },
      "cell_type": "code",
      "source": [
        "result = torch.empty(5, 3)\n",
        "torch.add(x, y, out=result)\n",
        "print(result)"
      ],
      "execution_count": 18,
      "outputs": [
        {
          "output_type": "stream",
          "text": [
            "tensor([[-0.9607,  1.8174, -0.9972],\n",
            "        [-0.0476, -1.0685,  1.1992],\n",
            "        [ 0.2992, -0.9975,  2.1805],\n",
            "        [ 0.5217,  1.6803,  0.7940],\n",
            "        [ 1.0188, -0.5865,  3.2245]])\n"
          ],
          "name": "stdout"
        }
      ]
    },
    {
      "metadata": {
        "id": "CuPWSlsVplHb",
        "colab_type": "text"
      },
      "cell_type": "markdown",
      "source": [
        "y += x"
      ]
    },
    {
      "metadata": {
        "id": "jXMz_pzTpK-t",
        "colab_type": "code",
        "colab": {
          "base_uri": "https://localhost:8080/",
          "height": 102
        },
        "outputId": "17e0b92e-b63f-40bf-dab3-7aa17404a897"
      },
      "cell_type": "code",
      "source": [
        "y.add_(x)\n",
        "print(y)"
      ],
      "execution_count": 19,
      "outputs": [
        {
          "output_type": "stream",
          "text": [
            "tensor([[-0.9607,  1.8174, -0.9972],\n",
            "        [-0.0476, -1.0685,  1.1992],\n",
            "        [ 0.2992, -0.9975,  2.1805],\n",
            "        [ 0.5217,  1.6803,  0.7940],\n",
            "        [ 1.0188, -0.5865,  3.2245]])\n"
          ],
          "name": "stdout"
        }
      ]
    },
    {
      "metadata": {
        "id": "R_WVFkh0pjEk",
        "colab_type": "code",
        "colab": {
          "base_uri": "https://localhost:8080/",
          "height": 102
        },
        "outputId": "90cc660c-f690-48e3-94a2-b09deadf9b4b"
      },
      "cell_type": "code",
      "source": [
        "x"
      ],
      "execution_count": 20,
      "outputs": [
        {
          "output_type": "execute_result",
          "data": {
            "text/plain": [
              "tensor([[-1.6807,  0.8508, -1.8713],\n",
              "        [-0.6115, -1.7489,  0.2549],\n",
              "        [-0.5960, -1.2273,  1.8745],\n",
              "        [-0.3945,  0.7616,  0.6555],\n",
              "        [ 0.0613, -0.6850,  3.1959]])"
            ]
          },
          "metadata": {
            "tags": []
          },
          "execution_count": 20
        }
      ]
    },
    {
      "metadata": {
        "id": "wxilYVakpw3k",
        "colab_type": "code",
        "colab": {
          "base_uri": "https://localhost:8080/",
          "height": 34
        },
        "outputId": "666b4d23-862a-4dd1-a38b-0968e0fed3bf"
      },
      "cell_type": "code",
      "source": [
        "x[:, 1]"
      ],
      "execution_count": 25,
      "outputs": [
        {
          "output_type": "execute_result",
          "data": {
            "text/plain": [
              "tensor([-0.9448,  1.0896, -1.5415, -0.6245])"
            ]
          },
          "metadata": {
            "tags": []
          },
          "execution_count": 25
        }
      ]
    },
    {
      "metadata": {
        "id": "QLZmTb7RqgMJ",
        "colab_type": "text"
      },
      "cell_type": "markdown",
      "source": [
        "viewでsizeの整形\n",
        "-1も指定でき、その場合もう一つの引数にあうように"
      ]
    },
    {
      "metadata": {
        "id": "e2TaGnyUpzqE",
        "colab_type": "code",
        "colab": {
          "base_uri": "https://localhost:8080/",
          "height": 34
        },
        "outputId": "3212a9f1-1afb-492e-bf20-9baf88349449"
      },
      "cell_type": "code",
      "source": [
        "x = torch.randn(4, 4)\n",
        "y = x.view(16)\n",
        "z = x.view(-1, 8)\n",
        "print(x.size(), y.size(), z.size())"
      ],
      "execution_count": 24,
      "outputs": [
        {
          "output_type": "stream",
          "text": [
            "torch.Size([4, 4]) torch.Size([16]) torch.Size([2, 8])\n"
          ],
          "name": "stdout"
        }
      ]
    },
    {
      "metadata": {
        "id": "E1ec4EyMqIHs",
        "colab_type": "code",
        "colab": {
          "base_uri": "https://localhost:8080/",
          "height": 51
        },
        "outputId": "71096111-0b0d-4e7f-9ef0-99e35ba0105d"
      },
      "cell_type": "code",
      "source": [
        "x = torch.randn(1)\n",
        "print(x)\n",
        "% python number\n",
        "print(x.item())"
      ],
      "execution_count": 27,
      "outputs": [
        {
          "output_type": "stream",
          "text": [
            "tensor([0.0134])\n",
            "0.013429779559373856\n"
          ],
          "name": "stdout"
        }
      ]
    },
    {
      "metadata": {
        "id": "FJTS5sdfqShM",
        "colab_type": "code",
        "colab": {
          "base_uri": "https://localhost:8080/",
          "height": 34
        },
        "outputId": "eec78abf-4fff-44bb-ad99-a3f987daa550"
      },
      "cell_type": "code",
      "source": [
        "a = torch.ones(5)\n",
        "print(a)"
      ],
      "execution_count": 28,
      "outputs": [
        {
          "output_type": "stream",
          "text": [
            "tensor([1., 1., 1., 1., 1.])\n"
          ],
          "name": "stdout"
        }
      ]
    },
    {
      "metadata": {
        "id": "gS-cnSQvrOPs",
        "colab_type": "code",
        "colab": {
          "base_uri": "https://localhost:8080/",
          "height": 34
        },
        "outputId": "f2c66b79-ea21-4a78-c616-e36628069ca7"
      },
      "cell_type": "code",
      "source": [
        "b = a.numpy()\n",
        "print(b)"
      ],
      "execution_count": 29,
      "outputs": [
        {
          "output_type": "stream",
          "text": [
            "[1. 1. 1. 1. 1.]\n"
          ],
          "name": "stdout"
        }
      ]
    },
    {
      "metadata": {
        "id": "sTjKspyGrlER",
        "colab_type": "text"
      },
      "cell_type": "markdown",
      "source": [
        "copyである"
      ]
    },
    {
      "metadata": {
        "id": "4YJbQAUnrT-M",
        "colab_type": "code",
        "colab": {
          "base_uri": "https://localhost:8080/",
          "height": 51
        },
        "outputId": "e279eaa4-1785-4e52-85f6-697914ed52c8"
      },
      "cell_type": "code",
      "source": [
        "a.add_(1)\n",
        "print(a)\n",
        "print(b)"
      ],
      "execution_count": 30,
      "outputs": [
        {
          "output_type": "stream",
          "text": [
            "tensor([2., 2., 2., 2., 2.])\n",
            "[2. 2. 2. 2. 2.]\n"
          ],
          "name": "stdout"
        }
      ]
    },
    {
      "metadata": {
        "id": "FXnmQeJhr-0L",
        "colab_type": "text"
      },
      "cell_type": "markdown",
      "source": [
        "numpy to tensor"
      ]
    },
    {
      "metadata": {
        "id": "He5etEzJriSc",
        "colab_type": "code",
        "colab": {
          "base_uri": "https://localhost:8080/",
          "height": 51
        },
        "outputId": "2ad952df-3bbf-4bb2-e5eb-08c3fd86b07c"
      },
      "cell_type": "code",
      "source": [
        "import numpy as np\n",
        "a =  np.ones(5)\n",
        "b = torch.from_numpy(a)\n",
        "np.add(a, 1, out=a)\n",
        "print(a)\n",
        "print(b)"
      ],
      "execution_count": 32,
      "outputs": [
        {
          "output_type": "stream",
          "text": [
            "[2. 2. 2. 2. 2.]\n",
            "tensor([2., 2., 2., 2., 2.], dtype=torch.float64)\n"
          ],
          "name": "stdout"
        }
      ]
    },
    {
      "metadata": {
        "id": "18MTaJyqr3Xs",
        "colab_type": "code",
        "colab": {
          "base_uri": "https://localhost:8080/",
          "height": 51
        },
        "outputId": "41ef7db9-e297-41de-a7c3-6a5549068673"
      },
      "cell_type": "code",
      "source": [
        "if torch.cuda.is_available():\n",
        "  device = torch.device(\"cuda\")\n",
        "  y = torch.ones_like(x, device=device)\n",
        "  x = x.to(device)\n",
        "  z = x + y\n",
        "  print(z)\n",
        "  print(z.to(\"cpu\", torch.double))"
      ],
      "execution_count": 33,
      "outputs": [
        {
          "output_type": "stream",
          "text": [
            "tensor([1.0134], device='cuda:0')\n",
            "tensor([1.0134], dtype=torch.float64)\n"
          ],
          "name": "stdout"
        }
      ]
    },
    {
      "metadata": {
        "id": "QNKLRAcNsffs",
        "colab_type": "code",
        "colab": {}
      },
      "cell_type": "code",
      "source": [
        ""
      ],
      "execution_count": 0,
      "outputs": []
    }
  ]
}