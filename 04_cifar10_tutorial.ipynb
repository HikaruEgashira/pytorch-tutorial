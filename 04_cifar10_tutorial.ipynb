{
  "nbformat": 4,
  "nbformat_minor": 0,
  "metadata": {
    "colab": {
      "name": "04_cifar10_tutorial.ipynb",
      "version": "0.3.2",
      "provenance": [],
      "include_colab_link": true
    },
    "language_info": {
      "codemirror_mode": {
        "name": "ipython",
        "version": 3
      },
      "file_extension": ".py",
      "mimetype": "text/x-python",
      "name": "python",
      "nbconvert_exporter": "python",
      "pygments_lexer": "ipython3",
      "version": "3.6.6"
    },
    "kernelspec": {
      "display_name": "Python 3",
      "language": "python",
      "name": "python3"
    }
  },
  "cells": [
    {
      "cell_type": "markdown",
      "metadata": {
        "id": "view-in-github",
        "colab_type": "text"
      },
      "source": [
        "<a href=\"https://colab.research.google.com/github/HikaruEgashira/pytorch-tutorial/blob/master/04_cifar10_tutorial.ipynb\" target=\"_parent\"><img src=\"https://colab.research.google.com/assets/colab-badge.svg\" alt=\"Open In Colab\"/></a>"
      ]
    },
    {
      "metadata": {
        "id": "bLIdiNURerUv",
        "colab_type": "code",
        "colab": {}
      },
      "cell_type": "code",
      "source": [
        "%matplotlib inline"
      ],
      "execution_count": 0,
      "outputs": []
    },
    {
      "metadata": {
        "id": "ae5J2vn_erUy",
        "colab_type": "text"
      },
      "cell_type": "markdown",
      "source": [
        "\n",
        "分類分けの学習Training a Classifier\n",
        "=====================\n",
        "\n",
        "ここではニューラルネットワークの定義方法、損失の計算、重みの更新を教える\n",
        "まず以下のことについて考えて見てください\n",
        "\n",
        "データとは何か？\n",
        "----------------\n",
        "\n",
        "一般的に画像、文字、音声、動画データを取り扱わなければなりません。\n",
        "まずpythonのパッケージでデータをnumpyの配列に読み込み\n",
        "その後`torch.*Tensor`に変形します。\n",
        "\n",
        "-  画像はPillow, OpenCV\n",
        "-  音声はcsipy, librosa\n",
        "-  文字はPythonやCythonの文字列読み込みやNLTKのSpaCy\n",
        "\n",
        "\n",
        "``torchvision`にImagenet, CIFAR10, MNISTなどの共通データのデータローダがある。\n",
        "``torchvision.datasets`` and ``torch.utils.data.DataLoader``には画像を変形したデータがある。\n",
        "\n",
        "それらを使うことで共通したデータ読み込みのコードを書く手間を省いています。\n",
        "\n",
        "このチュートリアルではCIFAR10という\n",
        "‘airplane’, ‘automobile’, ‘bird’, ‘cat’, ‘deer’,\n",
        "‘dog’, ‘frog’, ‘horse’, ‘ship’, ‘truck‘のデータセットを使う\n",
        "サイズは 3x32x32\n",
        "3はRGB\n",
        "32x32はピクセル\n",
        "\n",
        ".. figure:: /_static/img/cifar10.png\n",
        "   :alt: cifar10\n",
        "\n",
        "   cifar10\n",
        "\n",
        "\n",
        "画像分類の学習Training an image classifier\n",
        "----------------------------\n",
        "\n",
        "手順\n",
        "\n",
        "1. ``torchvision``でデータセットの読み込み  \n",
        "2. 畳み込みネットワークを定義\n",
        "3. 損失関数を定義\n",
        "4. 学習データを使い学習\n",
        "5. テストデータを使いテスト\n",
        "\n",
        "\n",
        "1. データの読み込みと正規化\n",
        "    torchvision+DataLoader\n",
        "\n",
        "``torchvision``がCIFAR10では一番楽.\n",
        "\n"
      ]
    },
    {
      "metadata": {
        "id": "_EYtGKoyerUz",
        "colab_type": "code",
        "colab": {}
      },
      "cell_type": "code",
      "source": [
        "import torch\n",
        "import torchvision\n",
        "import torchvision.transforms as transforms"
      ],
      "execution_count": 0,
      "outputs": []
    },
    {
      "metadata": {
        "id": "FNqlYoQzerU0",
        "colab_type": "text"
      },
      "cell_type": "markdown",
      "source": [
        "torchvisionは[0, 1]で出力されるため\n",
        "[-1, 1]に正規化を行う"
      ]
    },
    {
      "metadata": {
        "id": "I7TAWKanerU1",
        "colab_type": "code",
        "outputId": "9ada42fd-6322-4fe7-d05a-f16e298889cf",
        "colab": {
          "base_uri": "https://localhost:8080/",
          "height": 51
        }
      },
      "cell_type": "code",
      "source": [
        "# 正規化を定義。今回はTensor型にした後、上で説明した正規化を行う\n",
        "transform = transforms.Compose(\n",
        "    [transforms.ToTensor(),\n",
        "     transforms.Normalize((0.5, 0.5, 0.5), (0.5, 0.5, 0.5))])\n",
        "\n",
        "# root: path, train: 学習データはTrue, テストデータはFalse\n",
        "# download=True, transform: transform.Composeしたのをここで呼び出す\n",
        "trainset = torchvision.datasets.CIFAR10(root='./data', train=True,\n",
        "                                        download=True, transform=transform)\n",
        "# DataLoader: 読み込み後に行う\n",
        "trainloader = torch.utils.data.DataLoader(trainset, batch_size=4,\n",
        "                                          shuffle=True, num_workers=2)\n",
        "\n",
        "testset = torchvision.datasets.CIFAR10(root='./data', train=False,\n",
        "                                       download=True, transform=transform)\n",
        "testloader = torch.utils.data.DataLoader(testset, batch_size=4,\n",
        "                                         shuffle=False, num_workers=2)\n",
        "\n",
        "# 今回分類するものを先にタプルで書きだしておく\n",
        "classes = ('plane', 'car', 'bird', 'cat',\n",
        "           'deer', 'dog', 'frog', 'horse', 'ship', 'truck')"
      ],
      "execution_count": 15,
      "outputs": [
        {
          "output_type": "stream",
          "text": [
            "Files already downloaded and verified\n",
            "Files already downloaded and verified\n"
          ],
          "name": "stdout"
        }
      ]
    },
    {
      "metadata": {
        "id": "xm0JlMtNerU2",
        "colab_type": "text"
      },
      "cell_type": "markdown",
      "source": [
        "学習画像の表示"
      ]
    },
    {
      "metadata": {
        "id": "X8b2_kw1erU3",
        "colab_type": "code",
        "outputId": "5ceb7d2a-d1a5-4431-bacd-944551466a88",
        "colab": {
          "base_uri": "https://localhost:8080/",
          "height": 156
        }
      },
      "cell_type": "code",
      "source": [
        "import matplotlib.pyplot as plt\n",
        "import numpy as np\n",
        "\n",
        "# 画像を表示する関数\n",
        "\n",
        "def imshow(img):\n",
        "    img = img / 2 + 0.5     # 非正規化 unnormalize\n",
        "    npimg = img.numpy()     # numpy配列に変換\n",
        "    plt.imshow(np.transpose(npimg, (1, 2, 0)))\n",
        "\n",
        "\n",
        "# 学習データをランダムに取得\n",
        "dataiter = iter(trainloader)\n",
        "images, labels = dataiter.next()\n",
        "\n",
        "# 画像を表示\n",
        "imshow(torchvision.utils.make_grid(images))\n",
        "# ラベルの表示\n",
        "print(' '.join('%5s' % classes[labels[j]] for j in range(4)))"
      ],
      "execution_count": 16,
      "outputs": [
        {
          "output_type": "stream",
          "text": [
            " ship plane  bird truck\n"
          ],
          "name": "stdout"
        },
        {
          "output_type": "display_data",
          "data": {
            "image/png": "[encoded data removed]",
            "text/plain": [
              "<Figure size 432x288 with 1 Axes>"
            ]
          },
          "metadata": {
            "tags": []
          }
        }
      ]
    },
    {
      "metadata": {
        "id": "Fzu-sZs1erU5",
        "colab_type": "text"
      },
      "cell_type": "markdown",
      "source": [
        "2. 畳み込みの実装 Define a Convolution Neural Network"
      ]
    },
    {
      "metadata": {
        "id": "GUSvoIzherU5",
        "colab_type": "code",
        "colab": {}
      },
      "cell_type": "code",
      "source": [
        "import torch.nn as nn\n",
        "import torch.nn.functional as F\n",
        "\n",
        "class Net(nn.Module):\n",
        "    # 初期状態にネットワークの次元の定義\n",
        "    def __init__(self):\n",
        "        super(Net, self).__init__()\n",
        "        self.conv1 = nn.Conv2d(3, 6, 5)\n",
        "        self.pool = nn.MaxPool2d(2, 2)\n",
        "        self.conv2 = nn.Conv2d(6, 16, 5)\n",
        "        self.fc1 = nn.Linear(16 * 5 * 5, 120)\n",
        "        self.fc2 = nn.Linear(120, 84)\n",
        "        self.fc3 = nn.Linear(84, 10)\n",
        "\n",
        "    # reluはnn.functionalで定義されている\n",
        "    def forward(self, x):\n",
        "        x = self.pool(F.relu(self.conv1(x)))\n",
        "        x = self.pool(F.relu(self.conv2(x)))\n",
        "        x = x.view(-1, 16 * 5 * 5)\n",
        "        x = F.relu(self.fc1(x))\n",
        "        x = F.relu(self.fc2(x))\n",
        "        x = self.fc3(x)\n",
        "        return x\n",
        "\n",
        "\n",
        "net = Net()"
      ],
      "execution_count": 0,
      "outputs": []
    },
    {
      "metadata": {
        "id": "mrG1cOTqerU7",
        "colab_type": "text"
      },
      "cell_type": "markdown",
      "source": [
        "3. 損失関数と最適化関数を定義する\n",
        "\n",
        "\n",
        "分類クロスエントロピーとSDGを今回は使う\n"
      ]
    },
    {
      "metadata": {
        "id": "gjx1_Fd8erU7",
        "colab_type": "code",
        "colab": {}
      },
      "cell_type": "code",
      "source": [
        "# 弾み値を用いたSGDの最適化関数を使うのに用いる\n",
        "import torch.optim as optim\n",
        "\n",
        "# 分類分けクロスエントロピー\n",
        "criterion = nn.CrossEntropyLoss()\n",
        "# 最適化関数\n",
        "optimizer = optim.SGD(net.parameters(), lr=0.001, momentum=0.9)"
      ],
      "execution_count": 0,
      "outputs": []
    },
    {
      "metadata": {
        "id": "Ni5JacwOerU9",
        "colab_type": "text"
      },
      "cell_type": "markdown",
      "source": [
        "4.学習\n",
        "\n",
        "\n",
        "データセット上で何度もネットワークへの入力と最適化を繰り返す"
      ]
    },
    {
      "metadata": {
        "id": "iPCIizFVerU9",
        "colab_type": "code",
        "outputId": "a703e309-37cb-4e6a-ce8b-d4b900f54016",
        "colab": {
          "base_uri": "https://localhost:8080/",
          "height": 238
        }
      },
      "cell_type": "code",
      "source": [
        "for epoch in range(2):  # 複数回繰り返す（エポック数の定義）\n",
        "\n",
        "    running_loss = 0.0\n",
        "    # データごとのループ\n",
        "    for i, data in enumerate(trainloader, 0):\n",
        "        # 入力を得る\n",
        "        inputs, labels = data\n",
        "\n",
        "        # こうはいのパラメータをゼロに\n",
        "        optimizer.zero_grad()\n",
        "\n",
        "        # forward + backward + optimize\n",
        "        # ネットクラスに入力データを入れる\n",
        "        outputs = net(inputs)\n",
        "        # クロスエントロピーでの損失の計算\n",
        "        loss = criterion(outputs, labels)\n",
        "        # 逆伝搬\n",
        "        loss.backward()\n",
        "        # 最適化関数の処理\n",
        "        optimizer.step()\n",
        "\n",
        "        # 統計の出力\n",
        "        running_loss += loss.item()\n",
        "        if i % 2000 == 1999:    # 2000をミニバッチとする\n",
        "            print('[%d, %5d] loss: %.3f' %\n",
        "                  (epoch + 1, i + 1, running_loss / 2000))\n",
        "            # ミニバッチごとの損失なので初期化\n",
        "            running_loss = 0.0\n",
        "# エポック数行った\n",
        "print('Finished Training')"
      ],
      "execution_count": 19,
      "outputs": [
        {
          "output_type": "stream",
          "text": [
            "[1,  2000] loss: 2.222\n",
            "[1,  4000] loss: 1.875\n",
            "[1,  6000] loss: 1.679\n",
            "[1,  8000] loss: 1.586\n",
            "[1, 10000] loss: 1.516\n",
            "[1, 12000] loss: 1.464\n",
            "[2,  2000] loss: 1.386\n",
            "[2,  4000] loss: 1.367\n",
            "[2,  6000] loss: 1.328\n",
            "[2,  8000] loss: 1.320\n",
            "[2, 10000] loss: 1.324\n",
            "[2, 12000] loss: 1.271\n",
            "Finished Training\n"
          ],
          "name": "stdout"
        }
      ]
    },
    {
      "metadata": {
        "id": "dsYvF2gberU_",
        "colab_type": "text"
      },
      "cell_type": "markdown",
      "source": [
        "5. テストデータでのテスト確認\n",
        "\n",
        "\n",
        "学習データ上を二周学習したのでこの学習が正確かどうかのテストを行う\n",
        "\n",
        "出力のラベルを予測して確認を行い、正しければ正しい予測を行ったサンプルリストに追加する\n",
        "\n",
        "1. テストセットの視覚化\n"
      ]
    },
    {
      "metadata": {
        "id": "BMByEO_GerVA",
        "colab_type": "code",
        "outputId": "32705c57-064e-4fc7-b184-c8cea0bc48d6",
        "colab": {
          "base_uri": "https://localhost:8080/",
          "height": 156
        }
      },
      "cell_type": "code",
      "source": [
        "# 読み込みはiterのnext関数で\n",
        "dataiter = iter(testloader)\n",
        "images, labels = dataiter.next()\n",
        "\n",
        "# 画像の表示はimshowで\n",
        "imshow(torchvision.utils.make_grid(images))\n",
        "print('GroundTruth: ', ' '.join('%5s' % classes[labels[j]] for j in range(4)))"
      ],
      "execution_count": 20,
      "outputs": [
        {
          "output_type": "stream",
          "text": [
            "GroundTruth:    cat  ship  ship plane\n"
          ],
          "name": "stdout"
        },
        {
          "output_type": "display_data",
          "data": {
            "image/png": "[encoded data removed]",
            "text/plain": [
              "<Figure size 432x288 with 1 Axes>"
            ]
          },
          "metadata": {
            "tags": []
          }
        }
      ]
    },
    {
      "metadata": {
        "id": "Fgl_DcUlerVE",
        "colab_type": "text"
      },
      "cell_type": "markdown",
      "source": [
        "これらの例をニューラルネットワークがどう解釈するのか見てみる"
      ]
    },
    {
      "metadata": {
        "id": "wL9qyRuCerVF",
        "colab_type": "code",
        "colab": {}
      },
      "cell_type": "code",
      "source": [
        "# 画像群をネットに入れて出力をみる\n",
        "outputs = net(images)"
      ],
      "execution_count": 0,
      "outputs": []
    },
    {
      "metadata": {
        "id": "t5vZCBwzerVG",
        "colab_type": "text"
      },
      "cell_type": "markdown",
      "source": [
        "もっとも値の大きい物が10のクラスの中で妥当だと解釈したものなので、その番号を得る"
      ]
    },
    {
      "metadata": {
        "id": "fkxk28mVerVH",
        "colab_type": "code",
        "outputId": "bed56bc5-5985-448d-832a-54e4ff18a841",
        "colab": {
          "base_uri": "https://localhost:8080/",
          "height": 34
        }
      },
      "cell_type": "code",
      "source": [
        "# tensor配列の最大を出力\n",
        "_, predicted = torch.max(outputs, 1)\n",
        "\n",
        "print('Predicted: ', ' '.join('%5s' % classes[predicted[j]]\n",
        "                              for j in range(4)))"
      ],
      "execution_count": 22,
      "outputs": [
        {
          "output_type": "stream",
          "text": [
            "Predicted:    cat  ship  ship  ship\n"
          ],
          "name": "stdout"
        }
      ]
    },
    {
      "metadata": {
        "id": "JU3ItGYperVI",
        "colab_type": "text"
      },
      "cell_type": "markdown",
      "source": [
        "テスト全体で見ていこう"
      ]
    },
    {
      "metadata": {
        "id": "6MSfz591erVI",
        "colab_type": "code",
        "outputId": "62e045b2-4ff9-4d66-cb5d-640227c31b80",
        "colab": {
          "base_uri": "https://localhost:8080/",
          "height": 34
        }
      },
      "cell_type": "code",
      "source": [
        "correct = 0\n",
        "total = 0\n",
        "# テスト中は学習しないのでこうはいをしない設定にすることで時間を短縮する\n",
        "with torch.no_grad():\n",
        "    for data in testloader:\n",
        "        images, labels = data\n",
        "        outputs = net(images)\n",
        "        _, predicted = torch.max(outputs.data, 1)\n",
        "        total += labels.size(0)\n",
        "        # 予測とラベルが等しいものの合計値を出力\n",
        "        correct += (predicted == labels).sum().item()\n",
        "\n",
        "print('Accuracy of the network on the 10000 test images: %d %%' % (\n",
        "    100 * correct / total))"
      ],
      "execution_count": 23,
      "outputs": [
        {
          "output_type": "stream",
          "text": [
            "Accuracy of the network on the 10000 test images: 54 %\n"
          ],
          "name": "stdout"
        }
      ]
    },
    {
      "metadata": {
        "id": "9RBv8wecerVK",
        "colab_type": "text"
      },
      "cell_type": "markdown",
      "source": [
        "ランダムだと10%になるので何かしらの学習のあとが見られますね。\n",
        "\n",
        "うまくいったものとそうでないものは何かをみていく"
      ]
    },
    {
      "metadata": {
        "id": "hQADmA_perVK",
        "colab_type": "code",
        "outputId": "ec5c4dff-70b6-470f-b0fb-c46bb4e9dfd8",
        "colab": {
          "base_uri": "https://localhost:8080/",
          "height": 187
        }
      },
      "cell_type": "code",
      "source": [
        "class_correct = list(0. for i in range(10))\n",
        "class_total = list(0. for i in range(10))\n",
        "with torch.no_grad():\n",
        "    for data in testloader:\n",
        "        images, labels = data\n",
        "        outputs = net(images)\n",
        "        _, predicted = torch.max(outputs, 1)\n",
        "        # squeeze関数のあとにラベル4つで行っている操作が分かりません\n",
        "        c = (predicted == labels).squeeze()\n",
        "        for i in range(4):\n",
        "            label = labels[i]\n",
        "            class_correct[label] += c[i].item()\n",
        "            class_total[label] += 1\n",
        "\n",
        "\n",
        "for i in range(10):\n",
        "    print('Accuracy of %5s : %2d %%' % (\n",
        "        classes[i], 100 * class_correct[i] / class_total[i]))"
      ],
      "execution_count": 27,
      "outputs": [
        {
          "output_type": "stream",
          "text": [
            "Accuracy of plane : 55 %\n",
            "Accuracy of   car : 79 %\n",
            "Accuracy of  bird : 38 %\n",
            "Accuracy of   cat : 21 %\n",
            "Accuracy of  deer : 58 %\n",
            "Accuracy of   dog : 43 %\n",
            "Accuracy of  frog : 49 %\n",
            "Accuracy of horse : 74 %\n",
            "Accuracy of  ship : 68 %\n",
            "Accuracy of truck : 53 %\n"
          ],
          "name": "stdout"
        }
      ]
    },
    {
      "metadata": {
        "id": "H3c4yBrgerVM",
        "colab_type": "text"
      },
      "cell_type": "markdown",
      "source": [
        "GPUを使った学習\n",
        "----------------\n",
        "CUDAの利用できるデバイスがあるかどうかの確認"
      ]
    },
    {
      "metadata": {
        "id": "S7nGE-CaerVM",
        "colab_type": "code",
        "colab": {
          "base_uri": "https://localhost:8080/",
          "height": 34
        },
        "outputId": "90bed6ba-4c75-49dd-99d3-61fe6d695fde"
      },
      "cell_type": "code",
      "source": [
        "device = torch.device(\"cuda:0\" if torch.cuda.is_available() else \"cpu\")\n",
        "\n",
        "# CUDAがあると想定して、そのデバイスを出力する。なければcpuと出力されます\n",
        "\n",
        "print(device)"
      ],
      "execution_count": 25,
      "outputs": [
        {
          "output_type": "stream",
          "text": [
            "cpu\n"
          ],
          "name": "stdout"
        }
      ]
    },
    {
      "metadata": {
        "id": "ca6svKeterVN",
        "colab_type": "text"
      },
      "cell_type": "markdown",
      "source": [
        "The rest of this section assumes that `device` is a CUDA device.\n",
        "\n",
        "Then these methods will recursively go over all modules and convert their\n",
        "parameters and buffers to CUDA tensors:\n",
        "\n",
        ".. code:: python\n",
        "\n",
        "    net.to(device)\n",
        "\n",
        "\n",
        "Remember that you will have to send the inputs and targets at every step\n",
        "to the GPU too:\n",
        "\n",
        ".. code:: python\n",
        "\n",
        "        inputs, labels = inputs.to(device), labels.to(device)\n",
        "\n",
        "Why dont I notice MASSIVE speedup compared to CPU? Because your network\n",
        "is realllly small.\n",
        "\n",
        "**Exercise:** Try increasing the width of your network (argument 2 of\n",
        "the first ``nn.Conv2d``, and argument 1 of the second ``nn.Conv2d`` –\n",
        "they need to be the same number), see what kind of speedup you get.\n",
        "\n",
        "**Goals achieved**:\n",
        "\n",
        "- Understanding PyTorch's Tensor library and neural networks at a high level.\n",
        "- Train a small neural network to classify images\n",
        "\n",
        "Training on multiple GPUs\n",
        "-------------------------\n",
        "If you want to see even more MASSIVE speedup using all of your GPUs,\n",
        "please check out :doc:`data_parallel_tutorial`.\n",
        "\n",
        "Where do I go next?\n",
        "-------------------\n",
        "\n",
        "-  :doc:`Train neural nets to play video games </intermediate/reinforcement_q_learning>`\n",
        "-  `Train a state-of-the-art ResNet network on imagenet`_\n",
        "-  `Train a face generator using Generative Adversarial Networks`_\n",
        "-  `Train a word-level language model using Recurrent LSTM networks`_\n",
        "-  `More examples`_\n",
        "-  `More tutorials`_\n",
        "-  `Discuss PyTorch on the Forums`_\n",
        "-  `Chat with other users on Slack`_\n",
        "\n",
        "\n"
      ]
    },
    {
      "metadata": {
        "id": "8RG35IPXB7V7",
        "colab_type": "code",
        "colab": {}
      },
      "cell_type": "code",
      "source": [
        ""
      ],
      "execution_count": 0,
      "outputs": []
    }
  ]
}